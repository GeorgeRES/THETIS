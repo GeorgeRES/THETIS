{
 "cells": [
  {
   "cell_type": "markdown",
   "metadata": {},
   "source": [
    "# 2D Channel with Time-Dependent Boundary Conditions\n",
    "#### This example demonstrates the simulation of a flow in a 2D channel in a closed rectangular domain using constant and time dependent boundary conditions. \n",
    "\n",
    "The flow is forced by an initial perturbation in the water elevation field centred in the middle of the channel. The model solves the Shallow Water Equations which are not expanded herein for brevity.\n",
    " \n",
    "To run this example, it is necessary to install [firedrake](https://www.firedrakeproject.org/download.html) and [Thetis](https://thetisproject.org/download.html)\n",
    "\n",
    "[Link to Tutorials on Thetis Website](https://thetisproject.org/documentation.html)"
   ]
  },
  {
   "cell_type": "markdown",
   "metadata": {},
   "source": [
    "We begin with a number of imports. Note that we use `from thetis import *` which means that we do not need to prepend `thetis.` all the time. This also automatically includes a `from firedrake import *` so that we have access to the all the firedrake objects we saw yesterday such as `RectangleMesh`, `Function`, `FunctionSpace` etc. - without having to prepend `fd` as we did then."
   ]
  },
  {
   "cell_type": "code",
   "execution_count": 1,
   "metadata": {},
   "outputs": [],
   "source": [
    "%matplotlib inline\n",
    "import matplotlib\n",
    "import matplotlib.pyplot as plt\n",
    "from thetis import *"
   ]
  },
  {
   "cell_type": "markdown",
   "metadata": {},
   "source": [
    "We create a rectangular mesh using the builtin Firedrake mesh utility. \n",
    "Our domain is 40 km long and 2 km wide, and we will generate 25 elements in the along-channel direction and 2 in the cross-channel direction:"
   ]
  },
  {
   "cell_type": "code",
   "execution_count": 2,
   "metadata": {},
   "outputs": [],
   "source": [
    "lx = 40e3\n",
    "ly = 2e3\n",
    "nx = 25\n",
    "ny = 2\n",
    "mesh2d = RectangleMesh(nx, ny, lx, ly)"
   ]
  },
  {
   "cell_type": "markdown",
   "metadata": {},
   "source": [
    "We can use the built in [plot](https://firedrakeproject.org/firedrake.html#firedrake.plot.plot) function of firedrake to visualise the mesh."
   ]
  },
  {
   "cell_type": "code",
   "execution_count": 3,
   "metadata": {},
   "outputs": [
    {
     "ename": "NameError",
     "evalue": "name 'triplot' is not defined",
     "output_type": "error",
     "traceback": [
      "\u001b[0;31m---------------------------------------------------------------------------\u001b[0m",
      "\u001b[0;31mNameError\u001b[0m                                 Traceback (most recent call last)",
      "\u001b[0;32m<ipython-input-3-e7c13c19bf00>\u001b[0m in \u001b[0;36m<module>\u001b[0;34m\u001b[0m\n\u001b[1;32m      1\u001b[0m \u001b[0mfig\u001b[0m\u001b[0;34m,\u001b[0m \u001b[0max\u001b[0m \u001b[0;34m=\u001b[0m \u001b[0mplt\u001b[0m\u001b[0;34m.\u001b[0m\u001b[0msubplots\u001b[0m\u001b[0;34m(\u001b[0m\u001b[0mfigsize\u001b[0m\u001b[0;34m=\u001b[0m\u001b[0;34m(\u001b[0m\u001b[0;36m12\u001b[0m\u001b[0;34m,\u001b[0m\u001b[0;36m1\u001b[0m\u001b[0;34m)\u001b[0m\u001b[0;34m)\u001b[0m\u001b[0;34m\u001b[0m\u001b[0m\n\u001b[0;32m----> 2\u001b[0;31m \u001b[0mtriplot\u001b[0m\u001b[0;34m(\u001b[0m\u001b[0mmesh2d\u001b[0m\u001b[0;34m,\u001b[0m \u001b[0maxes\u001b[0m\u001b[0;34m=\u001b[0m\u001b[0max\u001b[0m\u001b[0;34m)\u001b[0m\u001b[0;34m;\u001b[0m\u001b[0;34m\u001b[0m\u001b[0m\n\u001b[0m",
      "\u001b[0;31mNameError\u001b[0m: name 'triplot' is not defined"
     ]
    },
    {
     "data": {
      "image/png": "[encoded data removed]",
      "text/plain": [
       "<Figure size 864x72 with 1 Axes>"
      ]
     },
     "metadata": {
      "needs_background": "light"
     },
     "output_type": "display_data"
    }
   ],
   "source": [
    "fig, ax = plt.subplots(figsize=(12,1))\n",
    "triplot(mesh2d, axes=ax);"
   ]
  },
  {
   "cell_type": "markdown",
   "metadata": {},
   "source": [
    "Next we define a bathymetry function in this domain using continuous linear elements, and set the bathymetry to a constant 20 m depth:"
   ]
  },
  {
   "cell_type": "code",
   "execution_count": 4,
   "metadata": {},
   "outputs": [],
   "source": [
    "P1_2d = FunctionSpace(mesh2d, 'CG', 1)\n",
    "bathymetry_2d = Function(P1_2d, name='Bathymetry')\n",
    "depth = 20.0\n",
    "bathymetry_2d.assign(depth);"
   ]
  },
  {
   "cell_type": "markdown",
   "metadata": {},
   "source": [
    "We are now ready to create a 2D solver object. This object can be used to solve the depth-averaged shallow water equations controlled by some options that can be set by the user."
   ]
  },
  {
   "cell_type": "code",
   "execution_count": 5,
   "metadata": {},
   "outputs": [],
   "source": [
    "solver_obj = solver2d.FlowSolver2d(mesh2d, bathymetry_2d)\n",
    "options = solver_obj.options"
   ]
  },
  {
   "cell_type": "markdown",
   "metadata": {},
   "source": [
    "First we set the options for the total duration and export intervals. The latter determines how frequently Thetis writes output files."
   ]
  },
  {
   "cell_type": "code",
   "execution_count": 6,
   "metadata": {},
   "outputs": [],
   "source": [
    "options.simulation_end_time = 12 * 3600\n",
    "options.simulation_export_time = 1200.0"
   ]
  },
  {
   "cell_type": "markdown",
   "metadata": {},
   "source": [
    "We also select the directory in which the output files will appear, which will be created automatically if it does not yet exist:"
   ]
  },
  {
   "cell_type": "code",
   "execution_count": 7,
   "metadata": {},
   "outputs": [],
   "source": [
    "options.output_directory = 'outputs_2d_channel'"
   ]
  },
  {
   "cell_type": "markdown",
   "metadata": {},
   "source": [
    "The standard output of Thetis is in the form of a `.pvd` file with an associated series of `.vtu` files (and `.pvtu` when running in parallel). For visualisation we recommend the program [paraview](https://paraview.org). This program is however not available inside this jupyter environment. Therefore we will here use hdf5 output files instead, which can be used to read back in the solution in Firedrake and Thetis (unlike the `.pvd`+`.vtu` output which cannot be read back in by Firedrake). This output can also be used as checkpoints, from which Thetis can be restarted. Here we will use the hdf5 output to read it back into Firedrake and plot it.\n",
    "\n",
    "We select which fields to output (`'elev_2d'` for elevations and `'uv_2d'` for the 2d velocity vector):"
   ]
  },
  {
   "cell_type": "code",
   "execution_count": 8,
   "metadata": {},
   "outputs": [],
   "source": [
    "options.fields_to_export_hdf5 = ['elev_2d', 'uv_2d']"
   ]
  },
  {
   "cell_type": "markdown",
   "metadata": {},
   "source": [
    "Next we define the time integrator, and set the time step, which can be chosen freely since Crank-Nicolson is unconditionally stable. Of course it will influence the accuracy of the simulation."
   ]
  },
  {
   "cell_type": "code",
   "execution_count": 9,
   "metadata": {},
   "outputs": [],
   "source": [
    "options.timestepper_type = 'CrankNicolson'\n",
    "options.timestep = 200.0"
   ]
  },
  {
   "cell_type": "markdown",
   "metadata": {},
   "source": [
    "### Boundary conditions\n",
    "We will force the model with a prescribed tidal elevation on the right side of the domain ($x=40 $km), and keep a constant elevation on the left ($x=0$).\n",
    "\n",
    "Boundary conditions are defined for each external boundary using their ID.\n",
    "\n",
    "In this example we are using a [RectangleMesh()](https://firedrakeproject.org/firedrake.html#firedrake.utility_meshes.RectangleMesh) which assigns IDs 1, 2, 3, and 4 for the four sides of the rectangle:"
   ]
  },
  {
   "cell_type": "code",
   "execution_count": 10,
   "metadata": {},
   "outputs": [],
   "source": [
    "left_bnd_id = 1\n",
    "right_bnd_id = 2"
   ]
  },
  {
   "cell_type": "markdown",
   "metadata": {},
   "source": [
    "At each boundary we can define the external value of the prognostic variables, i.e. in this case the water elevation and velocity.The value should be either a Firedrake [Constant](https://firedrakeproject.org/firedrake.html#firedrake.constant.Constant) or a Firedrake [Function](https://firedrakeproject.org/firedrake.html#firedrake.function.Function) (in case the boundary condition is not uniform in space).\n",
    "\n",
    "We store the boundary conditions in a dictionary.\n"
   ]
  },
  {
   "cell_type": "code",
   "execution_count": 11,
   "metadata": {},
   "outputs": [],
   "source": [
    "swe_bnd = {}\n",
    "swe_bnd[left_bnd_id] = {'elev': Constant(0.0)}"
   ]
  },
  {
   "cell_type": "markdown",
   "metadata": {},
   "source": [
    "Above we set the water elevation (using key `'elev'`) on the left bounday. Alternatively, we could also prescribe the normal velocity (with key `'un'`), the full 2D velocity vector (`'uv'`) or the total flux through the boundary (`'flux'`). For all supported boundary conditions, see module [shallowwater_eq](https://thetisproject.org/thetis.html#module-thetis.shallowwater_eq).\n",
    "\n",
    "In order to set time-dependent boundary conditions we first define a python function that evaluates the time dependent variable:"
   ]
  },
  {
   "cell_type": "code",
   "execution_count": 12,
   "metadata": {},
   "outputs": [
    {
     "data": {
      "image/png": "[encoded data removed]",
      "text/plain": [
       "<Figure size 432x288 with 1 Axes>"
      ]
     },
     "metadata": {
      "needs_background": "light"
     },
     "output_type": "display_data"
    }
   ],
   "source": [
    "tide_amp = 0.01  # amplitude of the tide\n",
    "tide_t = 12 * 3600.  # period of the tide\n",
    "\n",
    "def tidal_elevation(simulation_time):\n",
    "    \"\"\"Time-dependent tidal elevation\"\"\"\n",
    "    elev = tide_amp * sin(2 * pi * simulation_time / tide_t)\n",
    "    return elev\n",
    "\n",
    "\n",
    "plt.plot(np.arange(0,100000,500),[tidal_elevation(i) for i in np.arange(0,100000,500)])\n",
    "plt.ylabel('Elev (m)')\n",
    "plt.xlabel('t (sec)');"
   ]
  },
  {
   "cell_type": "markdown",
   "metadata": {},
   "source": [
    "We then create a `Constant` object with the initial value, and assign it to the left boundary:"
   ]
  },
  {
   "cell_type": "code",
   "execution_count": 13,
   "metadata": {},
   "outputs": [],
   "source": [
    "tide_elev_const = Constant(tidal_elevation(0))\n",
    "swe_bnd[right_bnd_id] = {'elev': tide_elev_const}"
   ]
  },
  {
   "cell_type": "markdown",
   "metadata": {},
   "source": [
    "Boundary conditions are now complete, and we assign them to the solver object:"
   ]
  },
  {
   "cell_type": "code",
   "execution_count": 14,
   "metadata": {},
   "outputs": [],
   "source": [
    "solver_obj.bnd_functions['shallow_water'] = swe_bnd"
   ]
  },
  {
   "cell_type": "markdown",
   "metadata": {},
   "source": [
    "Note that if boundary conditions are not assigned for some boundaries (the lateral boundaries 3 and 4 in this case), Thetis assumes impermeable land conditions.\n",
    "\n",
    "The only missing piece is to add a mechanism that re-evaluates the boundary condition as the simulation progresses. For this purpose we use the optional update_forcings argument of the [iterate()](https://thetisproject.org/thetis.html#thetis.solver2d.FlowSolver2d.iterate) method. update_forcings is a python function that updates all time dependent [Constants](https://firedrakeproject.org/firedrake.html#firedrake.constant.Constant) or [Functions](https://firedrakeproject.org/firedrake.html#firedrake.function.Function) used to force the model. In this case we only need to update `tide_elev_const`:"
   ]
  },
  {
   "cell_type": "code",
   "execution_count": 15,
   "metadata": {},
   "outputs": [],
   "source": [
    "def update_forcings(t_new):\n",
    "    \"\"\"Callback function that updates all time dependent forcing fields\"\"\"\n",
    "    uv, elev = solver_obj.fields.solution_2d.split()\n",
    "    tide_elev_const.assign(tidal_elevation(t_new))"
   ]
  },
  {
   "cell_type": "markdown",
   "metadata": {},
   "source": [
    "Finally we pass this callback to the time iterator and run the model"
   ]
  },
  {
   "cell_type": "code",
   "execution_count": 16,
   "metadata": {},
   "outputs": [
    {
     "name": "stderr",
     "output_type": "stream",
     "text": [
      "Using default SIPG parameters\n",
      "dt = 200.0\n",
      "Using time integrator: CrankNicolson\n",
      "    0     0 T=      0.00 eta norm:     0.0000 u norm:     0.0000  0.00\n",
      "    1     6 T=   1200.00 eta norm:     6.5453 u norm:     4.5832  2.06\n",
      "    2    12 T=   2400.00 eta norm:    17.3241 u norm:    12.1339  0.15\n",
      "    3    18 T=   3600.00 eta norm:    29.9394 u norm:    22.0483  0.12\n",
      "    4    24 T=   4800.00 eta norm:    38.0665 u norm:    36.7198  0.13\n",
      "    5    30 T=   6000.00 eta norm:    38.4731 u norm:    55.5626  0.13\n",
      "    6    36 T=   7200.00 eta norm:    41.8948 u norm:    77.3546  0.13\n",
      "    7    42 T=   8400.00 eta norm:    49.0878 u norm:   101.4219  0.13\n",
      "    8    48 T=   9600.00 eta norm:    55.3362 u norm:   126.8069  0.13\n",
      "    9    54 T=  10800.00 eta norm:    55.2865 u norm:   153.0439  0.14\n",
      "   10    60 T=  12000.00 eta norm:    48.0631 u norm:   179.1980  0.12\n",
      "   11    66 T=  13200.00 eta norm:    45.6190 u norm:   204.4493  0.11\n",
      "   12    72 T=  14400.00 eta norm:    45.5563 u norm:   228.1257  0.12\n",
      "   13    78 T=  15600.00 eta norm:    43.6845 u norm:   249.4389  0.14\n",
      "   14    84 T=  16800.00 eta norm:    34.9302 u norm:   267.8179  0.13\n",
      "   15    90 T=  18000.00 eta norm:    21.3827 u norm:   282.5354  0.12\n",
      "   16    96 T=  19200.00 eta norm:    14.9964 u norm:   293.2370  0.13\n",
      "   17   102 T=  20400.00 eta norm:    10.1270 u norm:   299.6710  0.11\n",
      "   18   108 T=  21600.00 eta norm:     4.8039 u norm:   301.6038  0.12\n",
      "   19   114 T=  22800.00 eta norm:     9.3595 u norm:   298.9759  0.13\n",
      "   20   120 T=  24000.00 eta norm:    23.5248 u norm:   291.7197  0.11\n",
      "   21   126 T=  25200.00 eta norm:    28.5038 u norm:   280.2203  0.14\n",
      "   22   132 T=  26400.00 eta norm:    31.8381 u norm:   264.8296  0.12\n",
      "   23   138 T=  27600.00 eta norm:    36.8431 u norm:   245.9992  0.12\n",
      "   24   144 T=  28800.00 eta norm:    46.4826 u norm:   224.2696  0.11\n",
      "   25   150 T=  30000.00 eta norm:    54.2397 u norm:   200.2053  0.12\n",
      "   26   156 T=  31200.00 eta norm:    52.0340 u norm:   174.7416  0.12\n",
      "   27   162 T=  32400.00 eta norm:    49.2293 u norm:   148.5085  0.12\n",
      "   28   168 T=  33600.00 eta norm:    48.1833 u norm:   122.3602  0.11\n",
      "   29   174 T=  34800.00 eta norm:    51.0326 u norm:    97.0663  0.12\n",
      "   30   180 T=  36000.00 eta norm:    49.3360 u norm:    73.4577  0.11\n",
      "   31   186 T=  37200.00 eta norm:    38.8214 u norm:    52.4550  0.11\n",
      "   32   192 T=  38400.00 eta norm:    29.6042 u norm:    33.9889  0.10\n",
      "   33   198 T=  39600.00 eta norm:    23.1776 u norm:    19.0297  0.12\n",
      "   34   204 T=  40800.00 eta norm:    20.5860 u norm:     8.2978  0.12\n",
      "   35   210 T=  42000.00 eta norm:    12.2982 u norm:     6.4432  0.13\n",
      "   36   216 T=  43200.00 eta norm:     2.5717 u norm:     7.4722  0.14\n"
     ]
    }
   ],
   "source": [
    "solver_obj.iterate(update_forcings=update_forcings)"
   ]
  },
  {
   "cell_type": "markdown",
   "metadata": {},
   "source": [
    "While the model is running, Thetis prints some statistics on the command line:\n",
    " \n",
    "    0     0 T=      0.00 eta norm:     0.0000 u norm:     0.0000  0.00\n",
    "    1     6 T=   1200.00 eta norm:     6.5453 u norm:     4.5832  8.49\n",
    "    2    12 T=   2400.00 eta norm:    17.3241 u norm:    12.1339  0.16\n",
    "    3    18 T=   3600.00 eta norm:    29.9394 u norm:    22.0483  0.16\n",
    "     ...\n",
    " \n",
    " The first column is the export index, the second one the number of executed\n",
    " time steps, followed by the simulation time. ``eta norm`` and ``u norm`` are\n",
    " the L2 norms of the elevation and depth averaged velocity fields, respectively.\n",
    " The last column stands for the (approximate) wall-clock time between exports.\n",
    " \n",
    " The simulation terminates once the end time is reached."
   ]
  },
  {
   "cell_type": "markdown",
   "metadata": {},
   "source": [
    "### Visualising the output\n",
    "Information on how to visualise results can be found here [outputs and visualization page](https://thetisproject.org/outputs_and_visu.html).\n",
    "\n",
    "Here we will use the hdf5 output (also used for checkpointing) to read back in the solution at different timesteps and plot it using Firedrake. First we need an elevation function, and a velocity function from the same function space that we used in the simulation:"
   ]
  },
  {
   "cell_type": "code",
   "execution_count": 17,
   "metadata": {},
   "outputs": [],
   "source": [
    "elev = Function(solver_obj.function_spaces.H_2d, name='elev_2d')\n",
    "uv = Function(solver_obj.function_spaces.U_2d, name='uv_2d')"
   ]
  },
  {
   "cell_type": "markdown",
   "metadata": {},
   "source": [
    "The following code opens the 9th output. We use `os.path.join` to combine the different parts (base outputdirectory, hdf5 sub directory, and actual filename) into a filename."
   ]
  },
  {
   "cell_type": "code",
   "execution_count": 18,
   "metadata": {},
   "outputs": [],
   "source": [
    "idx = 9 # which hdf5 do we want to open\n",
    "filename =  os.path.join(options.output_directory, 'hdf5','Elevation2d_%05d' % idx)\n",
    "dc = DumbCheckpoint(filename, mode=FILE_READ)"
   ]
  },
  {
   "cell_type": "markdown",
   "metadata": {},
   "source": [
    "Now we can read the solution into the `elev` and plot it:"
   ]
  },
  {
   "cell_type": "code",
   "execution_count": 19,
   "metadata": {},
   "outputs": [
    {
     "ename": "NameError",
     "evalue": "name 'tricontourf' is not defined",
     "output_type": "error",
     "traceback": [
      "\u001b[0;31m---------------------------------------------------------------------------\u001b[0m",
      "\u001b[0;31mNameError\u001b[0m                                 Traceback (most recent call last)",
      "\u001b[0;32m<ipython-input-19-9083c144ccc9>\u001b[0m in \u001b[0;36m<module>\u001b[0;34m\u001b[0m\n\u001b[1;32m      1\u001b[0m \u001b[0mdc\u001b[0m\u001b[0;34m.\u001b[0m\u001b[0mload\u001b[0m\u001b[0;34m(\u001b[0m\u001b[0melev\u001b[0m\u001b[0;34m)\u001b[0m\u001b[0;34m\u001b[0m\u001b[0m\n\u001b[1;32m      2\u001b[0m \u001b[0mfig\u001b[0m\u001b[0;34m,\u001b[0m \u001b[0max\u001b[0m \u001b[0;34m=\u001b[0m \u001b[0mplt\u001b[0m\u001b[0;34m.\u001b[0m\u001b[0msubplots\u001b[0m\u001b[0;34m(\u001b[0m\u001b[0mfigsize\u001b[0m\u001b[0;34m=\u001b[0m\u001b[0;34m(\u001b[0m\u001b[0;36m12\u001b[0m\u001b[0;34m,\u001b[0m\u001b[0;36m2\u001b[0m\u001b[0;34m)\u001b[0m\u001b[0;34m)\u001b[0m\u001b[0;34m\u001b[0m\u001b[0m\n\u001b[0;32m----> 3\u001b[0;31m \u001b[0mtricontourf\u001b[0m\u001b[0;34m(\u001b[0m\u001b[0melev\u001b[0m\u001b[0;34m,\u001b[0m \u001b[0maxes\u001b[0m\u001b[0;34m=\u001b[0m\u001b[0max\u001b[0m\u001b[0;34m,\u001b[0m \u001b[0mcmap\u001b[0m\u001b[0;34m=\u001b[0m\u001b[0mmatplotlib\u001b[0m\u001b[0;34m.\u001b[0m\u001b[0mcm\u001b[0m\u001b[0;34m.\u001b[0m\u001b[0mcoolwarm\u001b[0m\u001b[0;34m,\u001b[0m \u001b[0mlevels\u001b[0m\u001b[0;34m=\u001b[0m\u001b[0;36m50\u001b[0m\u001b[0;34m)\u001b[0m\u001b[0;34m\u001b[0m\u001b[0m\n\u001b[0m\u001b[1;32m      4\u001b[0m \u001b[0mplt\u001b[0m\u001b[0;34m.\u001b[0m\u001b[0maxis\u001b[0m\u001b[0;34m(\u001b[0m\u001b[0;34m'equal'\u001b[0m\u001b[0;34m)\u001b[0m\u001b[0;34m;\u001b[0m\u001b[0;34m\u001b[0m\u001b[0m\n",
      "\u001b[0;31mNameError\u001b[0m: name 'tricontourf' is not defined"
     ]
    },
    {
     "data": {
      "image/png": "[encoded data removed]",
      "text/plain": [
       "<Figure size 864x144 with 1 Axes>"
      ]
     },
     "metadata": {
      "needs_background": "light"
     },
     "output_type": "display_data"
    }
   ],
   "source": [
    "dc.load(elev)\n",
    "fig, ax = plt.subplots(figsize=(12,2))\n",
    "tricontourf(elev, axes=ax, cmap=matplotlib.cm.coolwarm, levels=50)\n",
    "plt.axis('equal');"
   ]
  },
  {
   "cell_type": "markdown",
   "metadata": {},
   "source": [
    "In the same way we can also load and plot the velocity field:"
   ]
  },
  {
   "cell_type": "code",
   "execution_count": 20,
   "metadata": {},
   "outputs": [
    {
     "ename": "NameError",
     "evalue": "name 'quiver' is not defined",
     "output_type": "error",
     "traceback": [
      "\u001b[0;31m---------------------------------------------------------------------------\u001b[0m",
      "\u001b[0;31mNameError\u001b[0m                                 Traceback (most recent call last)",
      "\u001b[0;32m<ipython-input-20-329f095cf52f>\u001b[0m in \u001b[0;36m<module>\u001b[0;34m\u001b[0m\n\u001b[1;32m      4\u001b[0m \u001b[0mdc\u001b[0m\u001b[0;34m.\u001b[0m\u001b[0mload\u001b[0m\u001b[0;34m(\u001b[0m\u001b[0muv\u001b[0m\u001b[0;34m)\u001b[0m\u001b[0;34m\u001b[0m\u001b[0m\n\u001b[1;32m      5\u001b[0m \u001b[0mfig\u001b[0m\u001b[0;34m,\u001b[0m \u001b[0max\u001b[0m \u001b[0;34m=\u001b[0m \u001b[0mplt\u001b[0m\u001b[0;34m.\u001b[0m\u001b[0msubplots\u001b[0m\u001b[0;34m(\u001b[0m\u001b[0mfigsize\u001b[0m\u001b[0;34m=\u001b[0m\u001b[0;34m(\u001b[0m\u001b[0;36m12\u001b[0m\u001b[0;34m,\u001b[0m\u001b[0;36m2\u001b[0m\u001b[0;34m)\u001b[0m\u001b[0;34m)\u001b[0m\u001b[0;34m\u001b[0m\u001b[0m\n\u001b[0;32m----> 6\u001b[0;31m \u001b[0mquiver\u001b[0m\u001b[0;34m(\u001b[0m\u001b[0muv\u001b[0m\u001b[0;34m,\u001b[0m \u001b[0maxes\u001b[0m\u001b[0;34m=\u001b[0m\u001b[0max\u001b[0m\u001b[0;34m,\u001b[0m \u001b[0mcmap\u001b[0m\u001b[0;34m=\u001b[0m\u001b[0mmatplotlib\u001b[0m\u001b[0;34m.\u001b[0m\u001b[0mcm\u001b[0m\u001b[0;34m.\u001b[0m\u001b[0mcoolwarm\u001b[0m\u001b[0;34m)\u001b[0m\u001b[0;34m\u001b[0m\u001b[0m\n\u001b[0m\u001b[1;32m      7\u001b[0m \u001b[0mplt\u001b[0m\u001b[0;34m.\u001b[0m\u001b[0maxis\u001b[0m\u001b[0;34m(\u001b[0m\u001b[0;34m'equal'\u001b[0m\u001b[0;34m)\u001b[0m\u001b[0;34m;\u001b[0m\u001b[0;34m\u001b[0m\u001b[0m\n",
      "\u001b[0;31mNameError\u001b[0m: name 'quiver' is not defined"
     ]
    },
    {
     "data": {
      "image/png": "[encoded data removed]",
      "text/plain": [
       "<Figure size 864x144 with 1 Axes>"
      ]
     },
     "metadata": {
      "needs_background": "light"
     },
     "output_type": "display_data"
    }
   ],
   "source": [
    "idx = 9 # which hdf5 do we want to open\n",
    "filename = os.path.join(options.output_directory, 'hdf5','Velocity2d_%05d' % idx)\n",
    "dc = DumbCheckpoint(filename, mode=FILE_READ)\n",
    "dc.load(uv)\n",
    "fig, ax = plt.subplots(figsize=(12,2))\n",
    "quiver(uv, axes=ax, cmap=matplotlib.cm.coolwarm)\n",
    "plt.axis('equal');"
   ]
  },
  {
   "cell_type": "markdown",
   "metadata": {},
   "source": [
    "The following plots the elevations of all exported timesteps:"
   ]
  },
  {
   "cell_type": "code",
   "execution_count": null,
   "metadata": {
    "scrolled": false
   },
   "outputs": [],
   "source": [
    "last_idx = solver_obj.i_export\n",
    "matplotlib.rcParams['figure.max_open_warning'] = last_idx+1  # avoid warning\n",
    "for idx in range(last_idx+1):\n",
    "    filename =  os.path.join(options.output_directory, 'hdf5','Elevation2d_%05d' % idx)\n",
    "    dc = DumbCheckpoint(filename, mode=FILE_READ)\n",
    "    dc.load(elev)\n",
    "    dc.close()\n",
    "    fig, ax = plt.subplots(figsize=(16,1))\n",
    "    tricontourf(elev, axes=ax, cmap=matplotlib.cm.coolwarm, levels=50)\n",
    "    # Firedrake sets an automatic colorbar range which therefore changes per timestep\n",
    "    # instead, we want to fix it:\n",
    "    cbar = fig.axes[0].collections[-1].set_clim(-tide_amp, tide_amp)\n",
    "    plt.axis('equal')"
   ]
  },
  {
   "cell_type": "markdown",
   "metadata": {},
   "source": [
    "## Exercises:\n",
    "In the exercises we will try to make a number of changes to the above setup. For ease of use we have copied all the steps above in a single cell, so that you can easily repeat them and make your own adaptations:"
   ]
  },
  {
   "cell_type": "code",
   "execution_count": 28,
   "metadata": {},
   "outputs": [
    {
     "name": "stderr",
     "output_type": "stream",
     "text": [
      "Using default SIPG parameters\n",
      "dt = 200.0\n",
      "Using time integrator: CrankNicolson\n",
      "    0     0 T=      0.00 eta norm:     0.0000 u norm:     0.0000  0.00\n",
      "    1     6 T=   1200.00 eta norm:     6.5453 u norm:     4.5832  1.41\n",
      "    2    12 T=   2400.00 eta norm:    17.3241 u norm:    12.1339  0.13\n",
      "    3    18 T=   3600.00 eta norm:    29.9394 u norm:    22.0483  0.11\n",
      "    4    24 T=   4800.00 eta norm:    38.0665 u norm:    36.7198  0.12\n",
      "    5    30 T=   6000.00 eta norm:    38.4731 u norm:    55.5626  0.12\n",
      "    6    36 T=   7200.00 eta norm:    41.8948 u norm:    77.3546  0.13\n",
      "    7    42 T=   8400.00 eta norm:    49.0878 u norm:   101.4219  0.13\n",
      "    8    48 T=   9600.00 eta norm:    55.3362 u norm:   126.8069  0.13\n",
      "    9    54 T=  10800.00 eta norm:    55.2865 u norm:   153.0439  0.12\n",
      "   10    60 T=  12000.00 eta norm:    48.0631 u norm:   179.1980  0.11\n",
      "   11    66 T=  13200.00 eta norm:    45.6190 u norm:   204.4493  0.14\n",
      "   12    72 T=  14400.00 eta norm:    45.5563 u norm:   228.1257  0.12\n",
      "   13    78 T=  15600.00 eta norm:    43.6845 u norm:   249.4389  0.14\n",
      "   14    84 T=  16800.00 eta norm:    34.9302 u norm:   267.8179  0.13\n",
      "   15    90 T=  18000.00 eta norm:    21.3827 u norm:   282.5354  0.12\n",
      "   16    96 T=  19200.00 eta norm:    14.9964 u norm:   293.2370  0.11\n",
      "   17   102 T=  20400.00 eta norm:    10.1270 u norm:   299.6710  0.13\n",
      "   18   108 T=  21600.00 eta norm:     4.8039 u norm:   301.6038  0.12\n",
      "   19   114 T=  22800.00 eta norm:     9.3595 u norm:   298.9759  0.12\n",
      "   20   120 T=  24000.00 eta norm:    23.5248 u norm:   291.7197  0.13\n",
      "   21   126 T=  25200.00 eta norm:    28.5038 u norm:   280.2203  0.12\n",
      "   22   132 T=  26400.00 eta norm:    31.8381 u norm:   264.8296  0.13\n",
      "   23   138 T=  27600.00 eta norm:    36.8431 u norm:   245.9992  0.14\n",
      "   24   144 T=  28800.00 eta norm:    46.4826 u norm:   224.2696  0.12\n",
      "   25   150 T=  30000.00 eta norm:    54.2397 u norm:   200.2053  0.15\n",
      "   26   156 T=  31200.00 eta norm:    52.0340 u norm:   174.7416  0.14\n",
      "   27   162 T=  32400.00 eta norm:    49.2293 u norm:   148.5085  0.12\n",
      "   28   168 T=  33600.00 eta norm:    48.1833 u norm:   122.3602  0.11\n",
      "   29   174 T=  34800.00 eta norm:    51.0326 u norm:    97.0663  0.12\n",
      "   30   180 T=  36000.00 eta norm:    49.3360 u norm:    73.4577  0.13\n",
      "   31   186 T=  37200.00 eta norm:    38.8214 u norm:    52.4550  0.14\n",
      "   32   192 T=  38400.00 eta norm:    29.6042 u norm:    33.9889  0.14\n",
      "   33   198 T=  39600.00 eta norm:    23.1776 u norm:    19.0297  0.13\n",
      "   34   204 T=  40800.00 eta norm:    20.5860 u norm:     8.2978  0.12\n",
      "   35   210 T=  42000.00 eta norm:    12.2982 u norm:     6.4432  0.15\n",
      "   36   216 T=  43200.00 eta norm:     2.5717 u norm:     7.4722  0.12\n"
     ]
    }
   ],
   "source": [
    "# setup the mesh:\n",
    "lx = 40e3\n",
    "ly = 2e3\n",
    "nx = 25\n",
    "ny = 2\n",
    "mesh2d = RectangleMesh(nx, ny, lx, ly)\n",
    "\n",
    "# setup the bathymetry:\n",
    "P1_2d = FunctionSpace(mesh2d, 'CG', 1)\n",
    "bathymetry_2d = Function(P1_2d, name='Bathymetry')\n",
    "depth = 20.0\n",
    "bathymetry_2d.assign(depth);\n",
    "\n",
    "# setup the solver object and set some options\n",
    "solver_obj = solver2d.FlowSolver2d(mesh2d, bathymetry_2d)\n",
    "options = solver_obj.options\n",
    "\n",
    "options.simulation_end_time = 12 * 3600\n",
    "options.simulation_export_time = 1200.0\n",
    "\n",
    "options.output_directory = 'outputs_2d_channel'\n",
    "options.fields_to_export_hdf5 = ['elev_2d', 'uv_2d']\n",
    "\n",
    "options.timestepper_type = 'CrankNicolson'\n",
    "options.timestep = 200.0\n",
    "\n",
    "# setup boundary conditions:\n",
    "left_bnd_id = 1\n",
    "right_bnd_id = 2\n",
    "swe_bnd = {}\n",
    "swe_bnd[left_bnd_id] = {'elev': Constant(0.0)}\n",
    "\n",
    "tide_amp = 0.01  # amplitude of the tide\n",
    "tide_t = 12 * 3600.  # period of the tide\n",
    "\n",
    "def tidal_elevation(simulation_time):\n",
    "    \"\"\"Time-dependent tidal elevation\"\"\"\n",
    "    elev = tide_amp * sin(2 * pi * simulation_time / tide_t)\n",
    "    return elev\n",
    "\n",
    "tide_elev_const = Constant(tidal_elevation(0))\n",
    "swe_bnd[right_bnd_id] = {'elev': tide_elev_const}\n",
    "\n",
    "solver_obj.bnd_functions['shallow_water'] = swe_bnd\n",
    "\n",
    "def update_forcings(t_new):\n",
    "    \"\"\"Callback function that updates all time dependent forcing fields\"\"\"\n",
    "    uv, elev = solver_obj.fields.solution_2d.split()\n",
    "    tide_elev_const.assign(tidal_elevation(t_new))\n",
    "\n",
    "solver_obj.iterate(update_forcings=update_forcings)"
   ]
  },
  {
   "cell_type": "markdown",
   "metadata": {},
   "source": [
    "Try to make the following changes:\n",
    "\n",
    "1. apply a prescribed velocity boundary condition at the open boundary instead of a prescribed elevation"
   ]
  },
  {
   "cell_type": "code",
   "execution_count": 29,
   "metadata": {},
   "outputs": [
    {
     "name": "stderr",
     "output_type": "stream",
     "text": [
      "Using default SIPG parameters\n",
      "dt = 200.0\n",
      "Using time integrator: CrankNicolson\n",
      "    0     0 T=      0.00 eta norm:     0.0000 u norm:     0.0000  0.00\n",
      "    1     6 T=   1200.00 eta norm:   927.4638 u norm:   650.5541  2.10\n",
      "    2    12 T=   2400.00 eta norm:  2438.3580 u norm:  1716.0336  0.20\n",
      "    3    18 T=   3600.00 eta norm:  4190.5129 u norm:  3101.1667  0.19\n",
      "    4    24 T=   4800.00 eta norm:  5314.3208 u norm:  5142.1805  0.20\n",
      "    5    30 T=   6000.00 eta norm:  5156.0042 u norm:  7704.2167  0.15\n",
      "    6    36 T=   7200.00 eta norm:  3653.4361 u norm:  9759.3842  0.12\n",
      "    7    42 T=   8400.00 eta norm:  1306.8256 u norm: 10942.3863  0.13\n",
      "    8    48 T=   9600.00 eta norm:  1316.7025 u norm: 11140.0771  0.12\n",
      "    9    54 T=  10800.00 eta norm:  3137.4179 u norm: 10287.1437  0.12\n",
      "   10    60 T=  12000.00 eta norm:  3654.7289 u norm:  8673.6861  0.12\n",
      "   11    66 T=  13200.00 eta norm:  2912.9389 u norm:  7286.7235  0.12\n",
      "   12    72 T=  14400.00 eta norm:  1426.2944 u norm:  6320.7220  0.12\n",
      "   13    78 T=  15600.00 eta norm:   534.2024 u norm:  5728.1964  0.12\n",
      "   14    84 T=  16800.00 eta norm:   650.4422 u norm:  5634.5021  0.11\n",
      "   15    90 T=  18000.00 eta norm:   233.3236 u norm:  5722.0336  0.16\n",
      "   16    96 T=  19200.00 eta norm:  1947.3620 u norm:  5089.5395  0.17\n",
      "   17   102 T=  20400.00 eta norm:  4057.9430 u norm:  3676.8885  0.16\n",
      "   18   108 T=  21600.00 eta norm:  5923.0421 u norm:  1332.7011  0.15\n",
      "   19   114 T=  22800.00 eta norm:  6644.2697 u norm:  1747.8275  0.16\n",
      "   20   120 T=  24000.00 eta norm:  5807.6385 u norm:  4805.3703  0.12\n",
      "   21   126 T=  25200.00 eta norm:  3746.4234 u norm:  6987.6866  0.12\n",
      "   22   132 T=  26400.00 eta norm:  1435.4271 u norm:  8198.6568  0.13\n",
      "   23   138 T=  27600.00 eta norm:   786.5597 u norm:  8498.1476  0.13\n",
      "   24   144 T=  28800.00 eta norm:  1602.1272 u norm:  8076.7734  0.12\n",
      "   25   150 T=  30000.00 eta norm:  1272.3336 u norm:  7471.3486  0.13\n",
      "   26   156 T=  31200.00 eta norm:   282.4840 u norm:  7506.5026  0.14\n",
      "   27   162 T=  32400.00 eta norm:  1575.5973 u norm:  7820.4183  0.16\n",
      "   28   168 T=  33600.00 eta norm:  2315.1011 u norm:  8533.3657  0.16\n",
      "   29   174 T=  34800.00 eta norm:  1942.4170 u norm:  9445.6444  0.14\n",
      "   30   180 T=  36000.00 eta norm:   449.3453 u norm:  9854.8146  0.12\n",
      "   31   186 T=  37200.00 eta norm:  2195.5219 u norm:  9133.6364  0.13\n",
      "   32   192 T=  38400.00 eta norm:  4461.5982 u norm:  7509.2648  0.16\n",
      "   33   198 T=  39600.00 eta norm:  5849.4697 u norm:  5085.9668  0.12\n",
      "   34   204 T=  40800.00 eta norm:  5938.2695 u norm:  2217.5189  0.13\n",
      "   35   210 T=  42000.00 eta norm:  4674.6512 u norm:   793.8830  0.12\n",
      "   36   216 T=  43200.00 eta norm:  2723.3538 u norm:  2347.3548  0.13\n"
     ]
    }
   ],
   "source": [
    "# setup the mesh:\n",
    "lx = 40e3\n",
    "ly = 2e3\n",
    "nx = 25\n",
    "ny = 2\n",
    "mesh2d = RectangleMesh(nx, ny, lx, ly)\n",
    "\n",
    "# setup the bathymetry:\n",
    "P1_2d = FunctionSpace(mesh2d, 'CG', 1)\n",
    "bathymetry_2d = Function(P1_2d, name='Bathymetry')\n",
    "depth = 20.0\n",
    "bathymetry_2d.assign(depth);\n",
    "\n",
    "# setup the solver object and set some options\n",
    "solver_obj = solver2d.FlowSolver2d(mesh2d, bathymetry_2d)\n",
    "options = solver_obj.options\n",
    "\n",
    "options.simulation_end_time = 12 * 3600\n",
    "options.simulation_export_time = 1200.0\n",
    "\n",
    "options.output_directory = 'outputs_2d_channel_vel'\n",
    "options.fields_to_export_hdf5 = ['elev_2d', 'uv_2d']\n",
    "\n",
    "options.timestepper_type = 'CrankNicolson'\n",
    "options.timestep = 200.0\n",
    "\n",
    "# setup boundary conditions:\n",
    "left_bnd_id = 1\n",
    "right_bnd_id = 2\n",
    "swe_bnd = {}\n",
    "swe_bnd[left_bnd_id] = {'elev': Constant(0.0)}\n",
    "\n",
    "vel_amp = 1  # velocity of the tide\n",
    "tide_t = 12 * 3600.  # period of the tide\n",
    "\n",
    "def tidal_vel(simulation_time):\n",
    "    \"\"\"Time-dependent tidal elevation\"\"\"\n",
    "    vel = vel_amp * sin(2 * pi * simulation_time / tide_t)\n",
    "    return vel\n",
    "\n",
    "vel_const = Constant(tidal_elevation(0))\n",
    "swe_bnd[right_bnd_id] = {'uv': as_vector((vel_const, 0))}\n",
    "\n",
    "solver_obj.bnd_functions['shallow_water'] = swe_bnd\n",
    "\n",
    "def update_forcings(t_new):\n",
    "    \"\"\"Callback function that updates all time dependent forcing fields\"\"\"\n",
    "    uv, elev = solver_obj.fields.solution_2d.split()\n",
    "    vel_const.assign(tidal_vel(t_new))\n",
    "\n",
    "solver_obj.iterate(update_forcings=update_forcings)"
   ]
  },
  {
   "cell_type": "markdown",
   "metadata": {},
   "source": [
    "2. change the bathymetry to be spatially varying, for instance use:"
   ]
  },
  {
   "cell_type": "code",
   "execution_count": 30,
   "metadata": {},
   "outputs": [],
   "source": [
    "x, y = SpatialCoordinate(mesh2d)\n",
    "bathymetry_2d.interpolate(depth * (1-0.5*max_value(cos((x-lx/2)/lx*pi*2), 0)));"
   ]
  },
  {
   "cell_type": "code",
   "execution_count": 31,
   "metadata": {},
   "outputs": [
    {
     "name": "stderr",
     "output_type": "stream",
     "text": [
      "Using default SIPG parameters\n",
      "dt = 200.0\n",
      "Using time integrator: CrankNicolson\n",
      "    0     0 T=      0.00 eta norm:     0.0000 u norm:     0.0000  0.00\n",
      "    1     6 T=   1200.00 eta norm:     6.5951 u norm:     4.5757  1.53\n",
      "    2    12 T=   2400.00 eta norm:    18.0260 u norm:    12.4097  0.14\n",
      "    3    18 T=   3600.00 eta norm:    30.3223 u norm:    22.9308  0.12\n",
      "    4    24 T=   4800.00 eta norm:    38.5665 u norm:    37.5114  0.12\n",
      "    5    30 T=   6000.00 eta norm:    41.4789 u norm:    57.6637  0.13\n",
      "    6    36 T=   7200.00 eta norm:    41.6899 u norm:    80.2106  0.12\n",
      "    7    42 T=   8400.00 eta norm:    49.5329 u norm:   104.7573  0.12\n",
      "    8    48 T=   9600.00 eta norm:    56.6086 u norm:   131.8513  0.12\n",
      "    9    54 T=  10800.00 eta norm:    56.2881 u norm:   158.7354  0.11\n",
      "   10    60 T=  12000.00 eta norm:    51.6871 u norm:   185.7933  0.13\n",
      "   11    66 T=  13200.00 eta norm:    45.8638 u norm:   212.6044  0.11\n",
      "   12    72 T=  14400.00 eta norm:    44.7188 u norm:   236.6175  0.12\n",
      "   13    78 T=  15600.00 eta norm:    44.7160 u norm:   259.0121  0.11\n",
      "   14    84 T=  16800.00 eta norm:    36.3951 u norm:   278.4219  0.12\n",
      "   15    90 T=  18000.00 eta norm:    23.5482 u norm:   293.1021  0.12\n",
      "   16    96 T=  19200.00 eta norm:    15.0003 u norm:   304.7915  0.10\n",
      "   17   102 T=  20400.00 eta norm:     7.2227 u norm:   311.4517  0.12\n",
      "   18   108 T=  21600.00 eta norm:     4.2842 u norm:   312.8640  0.12\n",
      "   19   114 T=  22800.00 eta norm:     7.4171 u norm:   310.8622  0.12\n",
      "   20   120 T=  24000.00 eta norm:    22.6022 u norm:   303.0757  0.11\n",
      "   21   126 T=  25200.00 eta norm:    31.4288 u norm:   290.8010  0.12\n",
      "   22   132 T=  26400.00 eta norm:    35.0062 u norm:   275.4221  0.12\n",
      "   23   138 T=  27600.00 eta norm:    38.2822 u norm:   255.2585  0.12\n",
      "   24   144 T=  28800.00 eta norm:    44.3716 u norm:   232.8159  0.13\n",
      "   25   150 T=  30000.00 eta norm:    53.8363 u norm:   208.2340  0.14\n",
      "   26   156 T=  31200.00 eta norm:    57.1740 u norm:   181.0219  0.12\n",
      "   27   162 T=  32400.00 eta norm:    51.9155 u norm:   154.3000  0.11\n",
      "   28   168 T=  33600.00 eta norm:    49.4962 u norm:   127.1187  0.11\n",
      "   29   174 T=  34800.00 eta norm:    48.3250 u norm:   100.2430  0.15\n",
      "   30   180 T=  36000.00 eta norm:    48.8873 u norm:    76.3015  0.12\n",
      "   31   186 T=  37200.00 eta norm:    44.9224 u norm:    54.1184  0.14\n",
      "   32   192 T=  38400.00 eta norm:    32.0496 u norm:    35.2114  0.15\n",
      "   33   198 T=  39600.00 eta norm:    22.0688 u norm:    20.0737  0.12\n",
      "   34   204 T=  40800.00 eta norm:    17.1092 u norm:     8.3831  0.12\n",
      "   35   210 T=  42000.00 eta norm:    12.3281 u norm:     3.0100  0.12\n",
      "   36   216 T=  43200.00 eta norm:     3.6900 u norm:     6.6971  0.15\n"
     ]
    }
   ],
   "source": [
    "# setup the mesh:\n",
    "lx = 40e3\n",
    "ly = 2e3\n",
    "nx = 25\n",
    "ny = 2\n",
    "mesh2d = RectangleMesh(nx, ny, lx, ly)\n",
    "\n",
    "# setup the bathymetry:\n",
    "P1_2d = FunctionSpace(mesh2d, 'CG', 1)\n",
    "bathymetry_2d = Function(P1_2d, name='Bathymetry')\n",
    "depth = 20.0\n",
    "\n",
    "x, y = SpatialCoordinate(mesh2d)\n",
    "bathymetry_2d.interpolate(depth * (1-0.5*max_value(cos((x-lx/2)/lx*pi*2), 0)))\n",
    "\n",
    "# setup the solver object and set some options\n",
    "solver_obj = solver2d.FlowSolver2d(mesh2d, bathymetry_2d)\n",
    "options = solver_obj.options\n",
    "\n",
    "options.simulation_end_time = 12 * 3600\n",
    "options.simulation_export_time = 1200.0\n",
    "\n",
    "options.output_directory = 'outputs_2d_channel_bath'\n",
    "options.fields_to_export_hdf5 = ['elev_2d', 'uv_2d']\n",
    "\n",
    "options.timestepper_type = 'CrankNicolson'\n",
    "options.timestep = 200.0\n",
    "\n",
    "# setup boundary conditions:\n",
    "left_bnd_id = 1\n",
    "right_bnd_id = 2\n",
    "swe_bnd = {}\n",
    "swe_bnd[left_bnd_id] = {'elev': Constant(0.0)}\n",
    "\n",
    "tide_amp = 0.01  # amplitude of the tide\n",
    "tide_t = 12 * 3600.  # period of the tide\n",
    "\n",
    "def tidal_elevation(simulation_time):\n",
    "    \"\"\"Time-dependent tidal elevation\"\"\"\n",
    "    elev = tide_amp * sin(2 * pi * simulation_time / tide_t)\n",
    "    return elev\n",
    "\n",
    "tide_elev_const = Constant(tidal_elevation(0))\n",
    "swe_bnd[right_bnd_id] = {'elev': tide_elev_const}\n",
    "\n",
    "solver_obj.bnd_functions['shallow_water'] = swe_bnd\n",
    "\n",
    "def update_forcings(t_new):\n",
    "    \"\"\"Callback function that updates all time dependent forcing fields\"\"\"\n",
    "    uv, elev = solver_obj.fields.solution_2d.split()\n",
    "    tide_elev_const.assign(tidal_elevation(t_new))\n",
    "\n",
    "solver_obj.iterate(update_forcings=update_forcings)"
   ]
  },
  {
   "cell_type": "markdown",
   "metadata": {},
   "source": [
    "For now let's make sure the bathymetry is sufficiently deep, so that the total depth (including the free surface elevation) does not go negative! This avoids us having to deal with wetting and drying.\n",
    "\n",
    "3. now let us try a bathymetry, where we do include wetting and drying. you will need the following additional option in your setup:"
   ]
  },
  {
   "cell_type": "code",
   "execution_count": 25,
   "metadata": {},
   "outputs": [],
   "source": [
    "options.use_wetting_and_drying = True"
   ]
  },
  {
   "cell_type": "markdown",
   "metadata": {},
   "source": [
    "To simulate the run up onto a beach, you could try the following bathymetry:"
   ]
  },
  {
   "cell_type": "code",
   "execution_count": 26,
   "metadata": {},
   "outputs": [],
   "source": [
    "x, y = SpatialCoordinate(mesh2d)\n",
    "bathymetry_2d.interpolate(depth * x/lx);"
   ]
  },
  {
   "cell_type": "markdown",
   "metadata": {},
   "source": [
    "In addition you will need to remove the left boundary condition as it does no longer apply!"
   ]
  },
  {
   "cell_type": "code",
   "execution_count": 32,
   "metadata": {},
   "outputs": [
    {
     "name": "stderr",
     "output_type": "stream",
     "text": [
      "Using default SIPG parameters\n",
      "dt = 200.0\n",
      "Using time integrator: CrankNicolson\n",
      "    0     0 T=      0.00 eta norm:     0.0000 u norm:     0.0000  0.00\n",
      "    1     6 T=   1200.00 eta norm:   640.5545 u norm:   479.5817 21.81\n",
      "    2    12 T=   2400.00 eta norm:  1703.0442 u norm:  1304.6492  0.20\n",
      "    3    18 T=   3600.00 eta norm:  3040.0605 u norm:  2417.8363  0.20\n"
     ]
    },
    {
     "data": {
      "image/png": "[encoded data removed]",
      "text/plain": [
       "<Figure size 432x288 with 1 Axes>"
      ]
     },
     "metadata": {
      "needs_background": "light"
     },
     "output_type": "display_data"
    },
    {
     "name": "stderr",
     "output_type": "stream",
     "text": [
      "    4    24 T=   4800.00 eta norm:  4587.5683 u norm:  3930.1163  3.16\n",
      "    5    30 T=   6000.00 eta norm:  6551.1593 u norm:  5821.7541  0.40\n",
      "    6    36 T=   7200.00 eta norm:  8777.9340 u norm:  4613.4193  0.20\n",
      "    7    42 T=   8400.00 eta norm: 10555.1223 u norm:  3222.3203  0.18\n"
     ]
    },
    {
     "data": {
      "image/png": "[encoded data removed]",
      "text/plain": [
       "<Figure size 432x288 with 1 Axes>"
      ]
     },
     "metadata": {
      "needs_background": "light"
     },
     "output_type": "display_data"
    },
    {
     "name": "stderr",
     "output_type": "stream",
     "text": [
      "    8    48 T=   9600.00 eta norm: 11880.9722 u norm:  1631.9903  0.72\n",
      "    9    54 T=  10800.00 eta norm: 12398.4621 u norm:   237.8233  0.17\n",
      "   10    60 T=  12000.00 eta norm: 11848.6482 u norm:  1876.6537  0.19\n",
      "   11    66 T=  13200.00 eta norm: 10290.0555 u norm:  3371.7892  0.21\n"
     ]
    },
    {
     "data": {
      "image/png": "[encoded data removed]",
      "text/plain": [
       "<Figure size 432x288 with 1 Axes>"
      ]
     },
     "metadata": {
      "needs_background": "light"
     },
     "output_type": "display_data"
    },
    {
     "name": "stderr",
     "output_type": "stream",
     "text": [
      "   12    72 T=  14400.00 eta norm:  8406.5794 u norm:  4522.1474  0.75\n",
      "   13    78 T=  15600.00 eta norm:  6299.2034 u norm:  5064.4543  0.22\n",
      "   14    84 T=  16800.00 eta norm:  4321.6198 u norm:  4408.2599  0.23\n",
      "   15    90 T=  18000.00 eta norm:  3062.8302 u norm:  2440.2358  0.25\n"
     ]
    },
    {
     "data": {
      "image/png": "[encoded data removed]",
      "text/plain": [
       "<Figure size 432x288 with 1 Axes>"
      ]
     },
     "metadata": {
      "needs_background": "light"
     },
     "output_type": "display_data"
    },
    {
     "name": "stderr",
     "output_type": "stream",
     "text": [
      "   16    96 T=  19200.00 eta norm:  1596.6149 u norm:  2730.0456  0.79\n",
      "   17   102 T=  20400.00 eta norm:   717.8857 u norm:  1653.3687  0.27\n",
      "   18   108 T=  21600.00 eta norm:   440.0770 u norm:   642.8634  0.22\n",
      "   19   114 T=  22800.00 eta norm:   781.8222 u norm:   490.2141  0.20\n"
     ]
    },
    {
     "data": {
      "image/png": "[encoded data removed]",
      "text/plain": [
       "<Figure size 432x288 with 1 Axes>"
      ]
     },
     "metadata": {
      "needs_background": "light"
     },
     "output_type": "display_data"
    },
    {
     "name": "stderr",
     "output_type": "stream",
     "text": [
      "   20   120 T=  24000.00 eta norm:  1525.6405 u norm:  1265.0173  0.68\n",
      "   21   126 T=  25200.00 eta norm:  2840.4705 u norm:  2322.9949  0.18\n",
      "   22   132 T=  26400.00 eta norm:  4568.8034 u norm:  3632.3436  0.19\n",
      "   23   138 T=  27600.00 eta norm:  6318.0416 u norm:  5075.5213  0.19\n"
     ]
    },
    {
     "data": {
      "image/png": "[encoded data removed]",
      "text/plain": [
       "<Figure size 432x288 with 1 Axes>"
      ]
     },
     "metadata": {
      "needs_background": "light"
     },
     "output_type": "display_data"
    },
    {
     "name": "stderr",
     "output_type": "stream",
     "text": [
      "   24   144 T=  28800.00 eta norm:  8798.1916 u norm:  5600.2972  0.77\n",
      "   25   150 T=  30000.00 eta norm: 11768.8547 u norm:  3792.2982  0.23\n",
      "   26   156 T=  31200.00 eta norm: 13053.1063 u norm:  1835.3526  0.21\n",
      "   27   162 T=  32400.00 eta norm: 12217.3491 u norm:  2353.0516  0.20\n"
     ]
    },
    {
     "data": {
      "image/png": "[encoded data removed]",
      "text/plain": [
       "<Figure size 432x288 with 1 Axes>"
      ]
     },
     "metadata": {
      "needs_background": "light"
     },
     "output_type": "display_data"
    },
    {
     "name": "stderr",
     "output_type": "stream",
     "text": [
      "   28   168 T=  33600.00 eta norm: 11405.1119 u norm:  3184.1592  0.82\n",
      "   29   174 T=  34800.00 eta norm: 10892.4887 u norm:  3707.5902  0.19\n",
      "   30   180 T=  36000.00 eta norm:  7470.8912 u norm:  5503.7667  0.22\n",
      "   31   186 T=  37200.00 eta norm:  5373.3420 u norm:  4431.1288  0.24\n"
     ]
    },
    {
     "data": {
      "image/png": "[encoded data removed]",
      "text/plain": [
       "<Figure size 432x288 with 1 Axes>"
      ]
     },
     "metadata": {
      "needs_background": "light"
     },
     "output_type": "display_data"
    },
    {
     "name": "stderr",
     "output_type": "stream",
     "text": [
      "   32   192 T=  38400.00 eta norm:  4021.6563 u norm:  3036.6564  0.74\n",
      "   33   198 T=  39600.00 eta norm:  3029.0171 u norm:  1338.7933  0.21\n",
      "   34   204 T=  40800.00 eta norm:  1800.6448 u norm:  1766.0420  0.20\n",
      "   35   210 T=  42000.00 eta norm:  1475.5739 u norm:   944.0811  0.20\n"
     ]
    },
    {
     "data": {
      "image/png": "[encoded data removed]",
      "text/plain": [
       "<Figure size 432x288 with 1 Axes>"
      ]
     },
     "metadata": {
      "needs_background": "light"
     },
     "output_type": "display_data"
    },
    {
     "name": "stderr",
     "output_type": "stream",
     "text": [
      "   36   216 T=  43200.00 eta norm:  1250.2411 u norm:   694.6113  0.71\n"
     ]
    }
   ],
   "source": [
    "import os\n",
    "\n",
    "# setup the mesh:\n",
    "lx = 40e3\n",
    "ly = 2e3\n",
    "nx = 25\n",
    "ny = 2\n",
    "mesh2d = RectangleMesh(nx, ny, lx, ly)\n",
    "\n",
    "# setup the bathymetry:\n",
    "P1_2d = FunctionSpace(mesh2d, 'CG', 1)\n",
    "bathymetry_2d = Function(P1_2d, name='Bathymetry')\n",
    "depth = 20.0\n",
    "\n",
    "x, y = SpatialCoordinate(mesh2d)\n",
    "bathymetry_2d.interpolate(depth * x/lx -2);\n",
    "\n",
    "# setup the solver object and set some options\n",
    "solver_obj = solver2d.FlowSolver2d(mesh2d, bathymetry_2d)\n",
    "options = solver_obj.options\n",
    "\n",
    "options.simulation_end_time = 12 * 3600\n",
    "options.simulation_export_time = 1200.0\n",
    "\n",
    "options.output_directory = 'outputs_2d_channel_wetting'\n",
    "options.fields_to_export_hdf5 = ['elev_2d', 'uv_2d']\n",
    "\n",
    "options.use_wetting_and_drying = True\n",
    "\n",
    "options.timestepper_type = 'CrankNicolson'\n",
    "options.timestep = 200.0\n",
    "\n",
    "# setup boundary conditions:\n",
    "left_bnd_id = 1\n",
    "right_bnd_id = 2\n",
    "swe_bnd = {}\n",
    "\n",
    "tide_amp = 1  # amplitude of the tide\n",
    "tide_t = 12 * 3600.  # period of the tide\n",
    "\n",
    "def tidal_elevation(simulation_time):\n",
    "    \"\"\"Time-dependent tidal elevation\"\"\"\n",
    "    elev = tide_amp * sin(2 * pi * simulation_time / tide_t)\n",
    "    return elev\n",
    "\n",
    "tide_elev_const = Constant(tidal_elevation(0))\n",
    "swe_bnd[right_bnd_id] = {'elev': tide_elev_const}\n",
    "\n",
    "solver_obj.bnd_functions['shallow_water'] = swe_bnd\n",
    "\n",
    "# User-defined output: moving bathymetry and eta_tilde\n",
    "wd_bathfile = File(os.path.join(options.output_directory, 'moving_bath.pvd'))\n",
    "moving_bath = Function(P1_2d, name=\"moving_bath\")\n",
    "eta_tildefile = File(os.path.join(options.output_directory, 'eta_tilde.pvd'))\n",
    "eta_tilde = Function(P1_2d, name=\"eta_tilde\")\n",
    "\n",
    "# user-specified export function\n",
    "def export_func():\n",
    "    wd_bath_displacement = solver_obj.depth.wd_bathymetry_displacement\n",
    "    eta = solver_obj.fields.elev_2d\n",
    "    moving_bath.project(bathymetry_2d + wd_bath_displacement(eta))\n",
    "    wd_bathfile.write(moving_bath)\n",
    "    eta_tilde.project(eta+wd_bath_displacement(eta))\n",
    "    eta_tildefile.write(eta_tilde)\n",
    "\n",
    "def update_forcings(t_new):\n",
    "    \"\"\"Callback function that updates all time dependent forcing fields\"\"\"\n",
    "    uv, elev = solver_obj.fields.solution_2d.split()\n",
    "    tide_elev_const.assign(tidal_elevation(t_new))\n",
    "    \n",
    "    if round(t_new, 2)%4800 == 0:\n",
    "        xaxisthetis1 = []\n",
    "        bathymetrythetis1 = []\n",
    "        elevthetis = []\n",
    "        moving_bath_list = []\n",
    "        eta_tilde_list = []\n",
    "\n",
    "        for i in np.linspace(0,(1.5*13800)-10, 80):\n",
    "            xaxisthetis1.append(i)\n",
    "            bathymetrythetis1.append(-bathymetry_2d.at([i, 600]))\n",
    "            elevthetis.append(elev.at([i, 600])) \n",
    "            moving_bath_list.append(-moving_bath.at([i, 600]))\n",
    "            eta_tilde_list.append(eta_tilde.at([i, 600]))\n",
    "            \n",
    "        plt.plot(xaxisthetis1, bathymetrythetis1, label = 'bath')\n",
    "        plt.plot(xaxisthetis1, elevthetis, label = 'elev')\n",
    "        plt.plot(xaxisthetis1, moving_bath_list, '-.', label = 'modified bath')\n",
    "        plt.plot(xaxisthetis1, eta_tilde_list, '-.', label = 'modified elev')        \n",
    "        plt.legend()\n",
    "        #plt.savefig('image/test_' + str(t) + '.png')\n",
    "        plt.show()\n",
    "\n",
    "solver_obj.iterate(update_forcings=update_forcings, export_func = export_func)"
   ]
  },
  {
   "cell_type": "code",
   "execution_count": null,
   "metadata": {},
   "outputs": [],
   "source": []
  }
 ],
 "metadata": {
  "kernelspec": {
   "display_name": "Python 3",
   "language": "python",
   "name": "python3"
  },
  "language_info": {
   "codemirror_mode": {
    "name": "ipython",
    "version": 3
   },
   "file_extension": ".py",
   "mimetype": "text/x-python",
   "name": "python",
   "nbconvert_exporter": "python",
   "pygments_lexer": "ipython3",
   "version": "3.7.0"
  }
 },
 "nbformat": 4,
 "nbformat_minor": 2
}
