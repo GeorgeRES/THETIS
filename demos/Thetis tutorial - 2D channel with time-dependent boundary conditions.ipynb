{
 "cells": [
  {
   "cell_type": "markdown",
   "metadata": {},
   "source": [
    "# 2D channel with time-dependent boundary conditions"
   ]
  },
  {
   "cell_type": "markdown",
   "metadata": {},
   "source": [
    "This example demonstrates a depth-averaged Thetis 2D simulation in a closed rectangular domain, where the flow is forced by an initial perturbation in the water elevation field centred in the middle of the channel. We add constant and time dependent boundary conditions. The model solves the Shallow Water Equations which are not expanded herein for brevity.\n",
    " \n",
    "To run this example, it is necessary to install [firedrake](https://www.firedrakeproject.org/download.html) and [Thetis](https://thetisproject.org/download.html)\n",
    "\n",
    "Note this is an extension of [2D channel example](https://github.com/thetisproject/thetis/blob/master/demos/demo_2d_channel.py). \n",
    "\n",
    "We begin by defining the domain and mesh:"
   ]
  },
  {
   "cell_type": "code",
   "execution_count": 1,
   "metadata": {},
   "outputs": [
    {
     "data": {
      "text/plain": [
       "<matplotlib.axes._subplots.AxesSubplot at 0x11ec027f0>"
      ]
     },
     "execution_count": 1,
     "metadata": {},
     "output_type": "execute_result"
    }
   ],
   "source": [
    "from thetis import *\n",
    "import pylab as plt\n",
    "\n",
    "lx = 40e3\n",
    "ly = 2e3\n",
    "nx = 25\n",
    "ny = 2\n",
    "mesh2d = RectangleMesh(nx, ny, lx, ly)\n",
    "\n",
    "plot(mesh2d)"
   ]
  },
  {
   "cell_type": "markdown",
   "metadata": {},
   "source": [
    "We then define the bathymetry"
   ]
  },
  {
   "cell_type": "code",
   "execution_count": 2,
   "metadata": {},
   "outputs": [
    {
     "data": {
      "text/plain": [
       "Coefficient(WithGeometry(FunctionSpace(<firedrake.mesh.MeshTopology object at 0x109e3c940>, FiniteElement('Lagrange', triangle, 1), name=None), Mesh(VectorElement(FiniteElement('Lagrange', triangle, 1), dim=2), 1)), 41)"
      ]
     },
     "execution_count": 2,
     "metadata": {},
     "output_type": "execute_result"
    }
   ],
   "source": [
    "P1_2d = FunctionSpace(mesh2d, 'CG', 1)\n",
    "bathymetry_2d = Function(P1_2d, name='Bathymetry')\n",
    "depth = 20.0\n",
    "bathymetry_2d.assign(depth)"
   ]
  },
  {
   "cell_type": "markdown",
   "metadata": {},
   "source": [
    "We are now ready to create a 2D solver object, and set some options. We start by specifying the duration of the simulation and the interval when we would like to get outputs."
   ]
  },
  {
   "cell_type": "code",
   "execution_count": 3,
   "metadata": {},
   "outputs": [],
   "source": [
    "# total duration in seconds\n",
    "t_end = 12 * 3600\n",
    "# export interval in seconds\n",
    "t_export = 300.0\n",
    "\n",
    "solver_obj = solver2d.FlowSolver2d(mesh2d, bathymetry_2d)\n",
    "options = solver_obj.options\n",
    "options.simulation_export_time = t_export\n",
    "options.simulation_end_time = t_end\n",
    "options.timestepper_type = 'CrankNicolson'\n",
    "options.timestep = 50.0"
   ]
  },
  {
   "cell_type": "markdown",
   "metadata": {},
   "source": [
    "We will force the model with a constant volume flux at the right boundary (x=40 km) and impose a tidal volume flux on the left boundary (x=0 km).\n",
    "\n",
    "Note that ``t_end`` and ``t_export`` are large to better illustrate tidal dynamics."
   ]
  },
  {
   "cell_type": "markdown",
   "metadata": {},
   "source": [
    "Boundary conditions are defined for each external boundary using their ID.\n",
    "\n",
    "In this example we are using a [RectangleMesh()](https://firedrakeproject.org/firedrake.html#firedrake.utility_meshes.RectangleMesh) which assigns IDs 1, 2, 3, and 4 for the four sides of the rectangle:"
   ]
  },
  {
   "cell_type": "code",
   "execution_count": 4,
   "metadata": {},
   "outputs": [],
   "source": [
    "left_bnd_id = 1\n",
    "right_bnd_id = 2"
   ]
  },
  {
   "cell_type": "markdown",
   "metadata": {},
   "source": [
    "At each boundary we need to define the external value of the prognostic variables, i.e. in this case the water elevation and velocity.\n",
    "\n",
    "The value should be either a Firedrake [Constant](https://firedrakeproject.org/firedrake.html#firedrake.constant.Constant) or [Function](https://firedrakeproject.org/firedrake.html#firedrake.function.Function) (in case the boundary condition is not uniform in space).\n",
    "\n",
    "We store the boundary conditions in a dictionary:"
   ]
  },
  {
   "cell_type": "code",
   "execution_count": 5,
   "metadata": {},
   "outputs": [],
   "source": [
    "swe_bnd = {}\n",
    "in_flux = 1e3\n",
    "swe_bnd[right_bnd_id] = {'elev': Constant(0.0),\n",
    "                         'flux': Constant(-in_flux)}"
   ]
  },
  {
   "cell_type": "markdown",
   "metadata": {},
   "source": [
    "Above we set the water elevation to zero and prescribe a constant volume flux. The volume flux is defined as outward normal flux, i.e. a negative value stands for flow into the domain. Alternatively we could also prescribe the normal velocity (with key ``'un'``) or the 2D velocity vector (``'uv'``).\n",
    "For all supported boundary conditions, see module [shallowwater_eq](https://thetisproject.org/thetis.html#module-thetis.shallowwater_eq).\n",
    "\n",
    "In order to set time-dependent boundary conditions we first define a python function that evaluates the time dependent variable:"
   ]
  },
  {
   "cell_type": "code",
   "execution_count": 6,
   "metadata": {},
   "outputs": [
    {
     "data": {
      "text/plain": [
       "Text(0.5,0,'t (sec)')"
      ]
     },
     "execution_count": 6,
     "metadata": {},
     "output_type": "execute_result"
    },
    {
     "data": {
      "image/png": "[encoded data removed]",
      "text/plain": [
       "<Figure size 432x288 with 1 Axes>"
      ]
     },
     "metadata": {
      "needs_background": "light"
     },
     "output_type": "display_data"
    }
   ],
   "source": [
    "def timedep_flux(simulation_time):\n",
    "    \"\"\"Time-dependent flux function\"\"\"\n",
    "    tide_amp = -2e3\n",
    "    tide_t = 12 * 3600.\n",
    "    flux = tide_amp*sin(2 * pi * simulation_time / tide_t) + in_flux\n",
    "    return flux\n",
    "\n",
    "plt.plot(np.arange(0,100000,500),[timedep_flux(i) for i in np.arange(0,100000,500)])\n",
    "plt.ylabel('Q (m$^3$/s)')\n",
    "plt.xlabel('t (sec)')"
   ]
  },
  {
   "cell_type": "markdown",
   "metadata": {},
   "source": [
    "We then create a Constant object with the initial value, and assign it to the left boundary:"
   ]
  },
  {
   "cell_type": "code",
   "execution_count": 7,
   "metadata": {},
   "outputs": [],
   "source": [
    "tide_flux_const = Constant(timedep_flux(0))\n",
    "swe_bnd[left_bnd_id] = {'flux': tide_flux_const}"
   ]
  },
  {
   "cell_type": "markdown",
   "metadata": {},
   "source": [
    "Boundary conditions are now complete, and we assign them to the solver object:"
   ]
  },
  {
   "cell_type": "code",
   "execution_count": 8,
   "metadata": {},
   "outputs": [],
   "source": [
    "solver_obj.bnd_functions['shallow_water'] = swe_bnd"
   ]
  },
  {
   "cell_type": "markdown",
   "metadata": {},
   "source": [
    "Note that if boundary conditions are not assigned for some boundaries (the lateral boundaries 3 and 4 in this case), Thetis assumes impermeable land conditions.\n",
    "\n",
    "The only missing piece is to add a mechanism that re-evaluates the boundary condition as the simulation progresses. For this purpose we use the optional ``update_forcings`` argument of the [iterate()](https://thetisproject.org/thetis.html#thetis.solver2d.FlowSolver2d.iterate) method. ``update_forcings`` is a python function that updates all time dependent [Constant](https://firedrakeproject.org/firedrake.html#firedrake.constant.Constant)s or [Function](https://firedrakeproject.org/firedrake.html#firedrake.function.Function)s used to force the model. In this case we only need to update ``tide_flux_const``:"
   ]
  },
  {
   "cell_type": "code",
   "execution_count": 9,
   "metadata": {},
   "outputs": [],
   "source": [
    "def update_forcings(t_new):\n",
    "    \"\"\"Callback function that updates all time dependent forcing fields\"\"\"\n",
    "    tide_flux_const.assign(timedep_flux(t_new))"
   ]
  },
  {
   "cell_type": "markdown",
   "metadata": {},
   "source": [
    "and finally pass this callback to the time iterator:"
   ]
  },
  {
   "cell_type": "code",
   "execution_count": 10,
   "metadata": {},
   "outputs": [
    {
     "name": "stderr",
     "output_type": "stream",
     "text": [
      "Using default SIPG parameters\n",
      "dt = 50.0\n",
      "Using time integrator: CrankNicolson\n",
      "    0     0 T=      0.00 eta norm:     0.0000 u norm:     0.0000  0.00\n",
      "    1     6 T=    300.00 eta norm:   107.6409 u norm:    75.3292  1.57\n",
      "    2    12 T=    600.00 eta norm:   147.2090 u norm:   103.1224  0.07\n",
      "    3    18 T=    900.00 eta norm:   174.1495 u norm:   122.0760  0.07\n",
      "    4    24 T=   1200.00 eta norm:   194.0911 u norm:   136.0650  0.07\n",
      "    5    30 T=   1500.00 eta norm:   199.4830 u norm:   153.3989  0.07\n",
      "    6    36 T=   1800.00 eta norm:   164.2006 u norm:   186.7958  0.07\n",
      "    7    42 T=   2100.00 eta norm:   131.9381 u norm:   209.3091  0.08\n",
      "    8    48 T=   2400.00 eta norm:   103.1535 u norm:   225.1220  0.08\n",
      "    9    54 T=   2700.00 eta norm:    82.2990 u norm:   235.6943  0.08\n",
      "   10    60 T=   3000.00 eta norm:    95.1048 u norm:   233.2075  0.09\n",
      "   11    66 T=   3300.00 eta norm:   115.0204 u norm:   209.2409  0.07\n",
      "   12    72 T=   3600.00 eta norm:   144.0432 u norm:   189.4889  0.07\n",
      "   13    78 T=   3900.00 eta norm:   174.7761 u norm:   169.0705  0.06\n",
      "   14    84 T=   4200.00 eta norm:   206.5097 u norm:   149.1817  0.06\n",
      "   15    90 T=   4500.00 eta norm:   240.0492 u norm:   128.3633  0.07\n",
      "   16    96 T=   4800.00 eta norm:   273.6386 u norm:   107.0347  0.06\n",
      "   17   102 T=   5100.00 eta norm:   306.0937 u norm:    86.2932  0.07\n",
      "   18   108 T=   5400.00 eta norm:   337.5018 u norm:    66.5240  0.07\n",
      "   19   114 T=   5700.00 eta norm:   367.3692 u norm:    52.5340  0.06\n",
      "   20   120 T=   6000.00 eta norm:   391.0485 u norm:    60.6570  0.06\n",
      "   21   126 T=   6300.00 eta norm:   410.3246 u norm:    75.8435  0.06\n",
      "   22   132 T=   6600.00 eta norm:   429.8997 u norm:    90.4594  0.08\n",
      "   23   138 T=   6900.00 eta norm:   447.9008 u norm:   105.3439  0.06\n",
      "   24   144 T=   7200.00 eta norm:   464.8459 u norm:   119.8628  0.06\n",
      "   25   150 T=   7500.00 eta norm:   480.5704 u norm:   134.0274  0.06\n",
      "   26   156 T=   7800.00 eta norm:   495.1838 u norm:   147.5297  0.06\n",
      "   27   162 T=   8100.00 eta norm:   508.6791 u norm:   160.3250  0.07\n",
      "   28   168 T=   8400.00 eta norm:   521.0552 u norm:   172.3614  0.06\n",
      "   29   174 T=   8700.00 eta norm:   531.9210 u norm:   183.0561  0.06\n",
      "   30   180 T=   9000.00 eta norm:   540.2188 u norm:   190.9046  0.06\n",
      "   31   186 T=   9300.00 eta norm:   547.4427 u norm:   197.8604  0.06\n",
      "   32   192 T=   9600.00 eta norm:   553.9635 u norm:   204.4306  0.06\n",
      "   33   198 T=   9900.00 eta norm:   559.3700 u norm:   210.0865  0.06\n",
      "   34   204 T=  10200.00 eta norm:   563.8066 u norm:   215.0005  0.07\n",
      "   35   210 T=  10500.00 eta norm:   567.2228 u norm:   219.1037  0.06\n",
      "   36   216 T=  10800.00 eta norm:   569.6019 u norm:   222.3875  0.06\n",
      "   37   222 T=  11100.00 eta norm:   570.9374 u norm:   224.8407  0.06\n",
      "   38   228 T=  11400.00 eta norm:   571.2876 u norm:   226.4853  0.06\n",
      "   39   234 T=  11700.00 eta norm:   571.1181 u norm:   227.5290  0.06\n",
      "   40   240 T=  12000.00 eta norm:   570.5665 u norm:   228.0101  0.06\n",
      "   41   246 T=  12300.00 eta norm:   568.7249 u norm:   227.5615  0.06\n",
      "   42   252 T=  12600.00 eta norm:   565.8684 u norm:   226.3053  0.06\n",
      "   43   258 T=  12900.00 eta norm:   561.9714 u norm:   224.2233  0.06\n",
      "   44   264 T=  13200.00 eta norm:   557.0390 u norm:   221.3246  0.06\n",
      "   45   270 T=  13500.00 eta norm:   551.0764 u norm:   217.6127  0.06\n",
      "   46   276 T=  13800.00 eta norm:   544.0994 u norm:   213.0991  0.06\n",
      "   47   282 T=  14100.00 eta norm:   536.1172 u norm:   207.7928  0.07\n",
      "   48   288 T=  14400.00 eta norm:   527.1650 u norm:   201.7290  0.07\n",
      "   49   294 T=  14700.00 eta norm:   517.3475 u norm:   195.0195  0.06\n",
      "   50   300 T=  15000.00 eta norm:   506.6486 u norm:   187.6424  0.06\n",
      "   51   306 T=  15300.00 eta norm:   494.9503 u norm:   179.4668  0.06\n",
      "   52   312 T=  15600.00 eta norm:   482.3672 u norm:   170.6136  0.06\n",
      "   53   318 T=  15900.00 eta norm:   468.8915 u norm:   161.0773  0.06\n",
      "   54   324 T=  16200.00 eta norm:   454.5642 u norm:   150.9066  0.07\n",
      "   55   330 T=  16500.00 eta norm:   439.4110 u norm:   140.1407  0.05\n",
      "   56   336 T=  16800.00 eta norm:   423.4685 u norm:   128.8394  0.06\n",
      "   57   342 T=  17100.00 eta norm:   406.7684 u norm:   117.0747  0.07\n",
      "   58   348 T=  17400.00 eta norm:   389.3222 u norm:   104.9329  0.06\n",
      "   59   354 T=  17700.00 eta norm:   371.1336 u norm:    92.5334  0.06\n",
      "   60   360 T=  18000.00 eta norm:   352.3098 u norm:    80.1530  0.07\n",
      "   61   366 T=  18300.00 eta norm:   332.9218 u norm:    68.2229  0.06\n",
      "   62   372 T=  18600.00 eta norm:   312.9836 u norm:    57.4367  0.07\n",
      "   63   378 T=  18900.00 eta norm:   292.5778 u norm:    49.1113  0.08\n",
      "   64   384 T=  19200.00 eta norm:   271.7587 u norm:    45.1675  0.07\n",
      "   65   390 T=  19500.00 eta norm:   250.6086 u norm:    47.2200  0.07\n",
      "   66   396 T=  19800.00 eta norm:   229.2172 u norm:    54.9821  0.06\n",
      "   67   402 T=  20100.00 eta norm:   207.6989 u norm:    66.7774  0.07\n",
      "   68   408 T=  20400.00 eta norm:   186.1960 u norm:    81.0813  0.06\n",
      "   69   414 T=  20700.00 eta norm:   164.9085 u norm:    96.9516  0.06\n",
      "   70   420 T=  21000.00 eta norm:   144.1513 u norm:   113.8426  0.06\n",
      "   71   426 T=  21300.00 eta norm:   124.3862 u norm:   131.4439  0.06\n",
      "   72   432 T=  21600.00 eta norm:   106.3539 u norm:   149.5617  0.06\n",
      "   73   438 T=  21900.00 eta norm:    91.2740 u norm:   168.0592  0.06\n",
      "   74   444 T=  22200.00 eta norm:    80.9555 u norm:   186.8398  0.06\n",
      "   75   450 T=  22500.00 eta norm:    77.4226 u norm:   205.8246  0.09\n",
      "   76   456 T=  22800.00 eta norm:    81.5915 u norm:   224.9487  0.10\n",
      "   77   462 T=  23100.00 eta norm:    92.4039 u norm:   244.1549  0.07\n",
      "   78   468 T=  23400.00 eta norm:   107.8187 u norm:   263.3911  0.08\n",
      "   79   474 T=  23700.00 eta norm:   126.0684 u norm:   282.6099  0.06\n",
      "   80   480 T=  24000.00 eta norm:   145.9850 u norm:   301.7663  0.06\n",
      "   81   486 T=  24300.00 eta norm:   166.8530 u norm:   320.8162  0.07\n",
      "   82   492 T=  24600.00 eta norm:   188.2269 u norm:   339.7182  0.07\n",
      "   83   498 T=  24900.00 eta norm:   209.8169 u norm:   358.4319  0.07\n",
      "   84   504 T=  25200.00 eta norm:   231.4233 u norm:   376.9185  0.07\n",
      "   85   510 T=  25500.00 eta norm:   252.9003 u norm:   395.1398  0.07\n",
      "   86   516 T=  25800.00 eta norm:   274.1354 u norm:   413.0588  0.08\n",
      "   87   522 T=  26100.00 eta norm:   295.0379 u norm:   430.6391  0.08\n",
      "   88   528 T=  26400.00 eta norm:   315.5313 u norm:   447.8453  0.08\n",
      "   89   534 T=  26700.00 eta norm:   335.5500 u norm:   464.6436  0.06\n",
      "   90   540 T=  27000.00 eta norm:   355.0358 u norm:   481.0013  0.07\n",
      "   91   546 T=  27300.00 eta norm:   373.9356 u norm:   496.8855  0.07\n",
      "   92   552 T=  27600.00 eta norm:   392.2013 u norm:   512.2652  0.07\n",
      "   93   558 T=  27900.00 eta norm:   409.7882 u norm:   527.1101  0.07\n",
      "   94   564 T=  28200.00 eta norm:   426.6546 u norm:   541.3909  0.08\n",
      "   95   570 T=  28500.00 eta norm:   442.7619 u norm:   555.0798  0.08\n",
      "   96   576 T=  28800.00 eta norm:   458.0741 u norm:   568.1498  0.07\n",
      "   97   582 T=  29100.00 eta norm:   472.5573 u norm:   580.5754  0.06\n",
      "   98   588 T=  29400.00 eta norm:   486.1802 u norm:   592.3322  0.08\n",
      "   99   594 T=  29700.00 eta norm:   498.9132 u norm:   603.3971  0.07\n",
      "  100   600 T=  30000.00 eta norm:   510.7293 u norm:   613.7485  0.07\n",
      "  101   606 T=  30300.00 eta norm:   521.6035 u norm:   623.3662  0.10\n",
      "  102   612 T=  30600.00 eta norm:   531.5129 u norm:   632.2312  0.08\n",
      "  103   618 T=  30900.00 eta norm:   540.4367 u norm:   640.3262  0.09\n",
      "  104   624 T=  31200.00 eta norm:   548.3563 u norm:   647.6353  0.08\n",
      "  105   630 T=  31500.00 eta norm:   555.2551 u norm:   654.1442  0.09\n",
      "  106   636 T=  31800.00 eta norm:   561.1188 u norm:   659.8400  0.09\n",
      "  107   642 T=  32100.00 eta norm:   565.9350 u norm:   664.7115  0.08\n",
      "  108   648 T=  32400.00 eta norm:   569.6937 u norm:   668.7491  0.08\n",
      "  109   654 T=  32700.00 eta norm:   572.3870 u norm:   671.9447  0.08\n",
      "  110   660 T=  33000.00 eta norm:   574.0090 u norm:   674.2920  0.09\n",
      "  111   666 T=  33300.00 eta norm:   574.5562 u norm:   675.7864  0.08\n",
      "  112   672 T=  33600.00 eta norm:   574.0273 u norm:   676.4246  0.07\n",
      "  113   678 T=  33900.00 eta norm:   572.4229 u norm:   676.2054  0.06\n",
      "  114   684 T=  34200.00 eta norm:   569.7462 u norm:   675.1290  0.07\n"
     ]
    },
    {
     "name": "stderr",
     "output_type": "stream",
     "text": [
      "  115   690 T=  34500.00 eta norm:   566.0024 u norm:   673.1975  0.07\n",
      "  116   696 T=  34800.00 eta norm:   561.1987 u norm:   670.4143  0.07\n",
      "  117   702 T=  35100.00 eta norm:   555.3449 u norm:   666.7849  0.09\n",
      "  118   708 T=  35400.00 eta norm:   548.4528 u norm:   662.3162  0.07\n",
      "  119   714 T=  35700.00 eta norm:   540.5361 u norm:   657.0167  0.07\n",
      "  120   720 T=  36000.00 eta norm:   531.6112 u norm:   650.8967  0.07\n",
      "  121   726 T=  36300.00 eta norm:   521.6962 u norm:   643.9679  0.06\n",
      "  122   732 T=  36600.00 eta norm:   510.8116 u norm:   636.2439  0.09\n",
      "  123   738 T=  36900.00 eta norm:   498.9801 u norm:   627.7395  0.07\n",
      "  124   744 T=  37200.00 eta norm:   486.2264 u norm:   618.4713  0.08\n",
      "  125   750 T=  37500.00 eta norm:   472.5775 u norm:   608.4571  0.08\n",
      "  126   756 T=  37800.00 eta norm:   458.0626 u norm:   597.7166  0.08\n",
      "  127   762 T=  38100.00 eta norm:   442.7132 u norm:   586.2706  0.09\n",
      "  128   768 T=  38400.00 eta norm:   426.5630 u norm:   574.1414  0.07\n",
      "  129   774 T=  38700.00 eta norm:   409.6484 u norm:   561.3527  0.07\n",
      "  130   780 T=  39000.00 eta norm:   392.0082 u norm:   547.9293  0.10\n",
      "  131   786 T=  39300.00 eta norm:   373.6843 u norm:   533.8976  0.10\n",
      "  132   792 T=  39600.00 eta norm:   354.7217 u norm:   519.2850  0.08\n",
      "  133   798 T=  39900.00 eta norm:   335.1693 u norm:   504.1201  0.10\n",
      "  134   804 T=  40200.00 eta norm:   315.0807 u norm:   488.4328  0.09\n",
      "  135   810 T=  40500.00 eta norm:   294.5153 u norm:   472.2538  0.10\n",
      "  136   816 T=  40800.00 eta norm:   273.5400 u norm:   455.6152  0.09\n",
      "  137   822 T=  41100.00 eta norm:   252.2324 u norm:   438.5497  0.09\n",
      "  138   828 T=  41400.00 eta norm:   230.6851 u norm:   421.0914  0.08\n",
      "  139   834 T=  41700.00 eta norm:   209.0130 u norm:   403.2751  0.09\n",
      "  140   840 T=  42000.00 eta norm:   187.3658 u norm:   385.1364  0.11\n",
      "  141   846 T=  42300.00 eta norm:   165.9489 u norm:   366.7121  0.08\n",
      "  142   852 T=  42600.00 eta norm:   145.0616 u norm:   348.0398  0.10\n",
      "  143   858 T=  42900.00 eta norm:   125.1650 u norm:   329.1578  0.08\n",
      "  144   864 T=  43200.00 eta norm:   107.0026 u norm:   310.1059  0.07\n"
     ]
    }
   ],
   "source": [
    "solver_obj.iterate(update_forcings=update_forcings)"
   ]
  },
  {
   "cell_type": "markdown",
   "metadata": {},
   "source": [
    "While the model is running, Thetis prints some statistics on the command line:\n",
    " \n",
    "    0     0 T=      0.00 eta norm:     0.0000 u norm:     0.0000  0.00\n",
    "    1     6 T=    300.00 eta norm:   107.6409 u norm:    75.3292  1.57\n",
    "    2    12 T=    600.00 eta norm:   147.2090 u norm:   103.1224  0.08\n",
    "    3    18 T=    900.00 eta norm:   174.1495 u norm:   122.0760  0.07\n",
    "     ...\n",
    " \n",
    " The first column is the export index, the second one the number of executed\n",
    " time steps, followed by the simulation time. ``eta norm`` and ``u norm`` are\n",
    " the L2 norms of the elevation and depth averaged velocity fields, respectively.\n",
    " The last column stands for the (approximate) wall-clock time between exports.\n",
    " \n",
    " The simulation terminates once the end time is reached.\n",
    " See the [outputs and visualization page](https://thetisproject.org/outputs_and_visu.html)  on how to\n",
    " visualize the results."
   ]
  },
  {
   "cell_type": "markdown",
   "metadata": {},
   "source": [
    "The resultant velocity and elevation fields are shown below:"
   ]
  },
  {
   "cell_type": "code",
   "execution_count": 11,
   "metadata": {},
   "outputs": [
    {
     "data": {
      "text/plain": [
       "<matplotlib.axes._subplots.AxesSubplot at 0x11f7c3ba8>"
      ]
     },
     "execution_count": 11,
     "metadata": {},
     "output_type": "execute_result"
    },
    {
     "data": {
      "image/png": "[encoded data removed]",
      "text/plain": [
       "<Figure size 432x288 with 2 Axes>"
      ]
     },
     "metadata": {
      "needs_background": "light"
     },
     "output_type": "display_data"
    }
   ],
   "source": [
    "plot(solver_obj.fields.uv_2d)"
   ]
  },
  {
   "cell_type": "code",
   "execution_count": 12,
   "metadata": {},
   "outputs": [
    {
     "data": {
      "text/plain": [
       "<matplotlib.axes._subplots.AxesSubplot at 0x11f89b780>"
      ]
     },
     "execution_count": 12,
     "metadata": {},
     "output_type": "execute_result"
    },
    {
     "data": {
      "image/png": "[encoded data removed]",
      "text/plain": [
       "<Figure size 432x288 with 2 Axes>"
      ]
     },
     "metadata": {
      "needs_background": "light"
     },
     "output_type": "display_data"
    }
   ],
   "source": [
    "plot(solver_obj.fields.elev_2d)"
   ]
  }
 ],
 "metadata": {
  "kernelspec": {
   "display_name": "Python 3",
   "language": "python",
   "name": "python3"
  },
  "language_info": {
   "codemirror_mode": {
    "name": "ipython",
    "version": 3
   },
   "file_extension": ".py",
   "mimetype": "text/x-python",
   "name": "python",
   "nbconvert_exporter": "python",
   "pygments_lexer": "ipython3",
   "version": "3.7.0"
  }
 },
 "nbformat": 4,
 "nbformat_minor": 2
}
